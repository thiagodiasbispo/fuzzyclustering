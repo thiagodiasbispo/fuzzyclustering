{
 "cells": [
  {
   "cell_type": "code",
   "execution_count": 20,
   "metadata": {},
   "outputs": [],
   "source": [
    "import pandas as pd\n",
    "import numpy as np\n",
    "\n",
    "source_script = \"friedman_test_template.r\"\n",
    "\n",
    "\n",
    "def read(f=source_script):\n",
    "    with open(f) as t:\n",
    "        return t.read()\n",
    "\n",
    "def save(file, labels, matrix, size):\n",
    "    script_content = read()\n",
    "    script_content = script_content.format(labels=labels, matrix=matrix, size=size)\n",
    "    \n",
    "    with open(file, \"w\") as f:\n",
    "        f.write(script_content)\n",
    "\n",
    "gaussian = {\"soma\": \"data/gaussian_300_splits.csv\", \n",
    "            \"fou\": \"data/gaussian_300_splits_fou.csv\",\n",
    "            \"kar\": \"data/gaussian_300_splits_kar.csv\"}\n",
    "\n",
    "knn = {\"soma\": \"data/knn_300_splits.csv\", \n",
    "            \"fac\": \"data/knn_300_splits_fac.csv\",\n",
    "            \"fou\": \"data/knn_300_splits_fou.csv\",\n",
    "            \"kar\": \"data/knn_300_splits_kar.csv\"}\n",
    "\n",
    "parzen = {\"soma\": \"data/parzen_300_splits.csv\", \n",
    "            \"fac\": \"data/parzen_300_splits_fac.csv\",\n",
    "            \"fou\": \"data/parzen_300_splits_fou.csv\",\n",
    "            \"kar\": \"data/parzen_300_splits_kar.csv\"}\n",
    "\n",
    "classifiers = [(\"gaussian\", gaussian), (\"knn\", knn), (\"parzen\", parzen)]\n",
    "\n",
    "for name, clf in classifiers:\n",
    "    m = np.empty((len(clf), 300))\n",
    "    for i, (view, report) in enumerate(clf.items()):\n",
    "        df = pd.read_csv(report, decimal=\",\", usecols =[\"test_accuracy\"])\n",
    "        m[i] = df.test_accuracy\n",
    "        \n",
    "    labels = \",\".join([f'\\\"{l}\\\"' for l in clf.keys()])\n",
    "    m_str = \",\".join(map(str, m.T.reshape(1, -1).flatten()))\n",
    "    file_name =  f\"friedman_test_{name}.r\"   \n",
    "    save(file_name, labels=labels, matrix=m_str, size=len(clf))"
   ]
  }
 ],
 "metadata": {
  "kernelspec": {
   "display_name": "Python 3",
   "language": "python",
   "name": "python3"
  },
  "language_info": {
   "codemirror_mode": {
    "name": "ipython",
    "version": 3
   },
   "file_extension": ".py",
   "mimetype": "text/x-python",
   "name": "python",
   "nbconvert_exporter": "python",
   "pygments_lexer": "ipython3",
   "version": "3.6.10"
  },
  "toc": {
   "base_numbering": 1,
   "nav_menu": {},
   "number_sections": true,
   "sideBar": true,
   "skip_h1_title": false,
   "title_cell": "Table of Contents",
   "title_sidebar": "Contents",
   "toc_cell": false,
   "toc_position": {},
   "toc_section_display": true,
   "toc_window_display": false
  }
 },
 "nbformat": 4,
 "nbformat_minor": 4
}
